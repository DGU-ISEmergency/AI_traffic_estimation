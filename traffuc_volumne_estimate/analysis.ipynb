{
 "cells": [
  {
   "cell_type": "code",
   "execution_count": 157,
   "metadata": {},
   "outputs": [],
   "source": [
    "import pandas as pd"
   ]
  },
  {
   "cell_type": "code",
   "execution_count": 158,
   "metadata": {},
   "outputs": [
    {
     "name": "stdout",
     "output_type": "stream",
     "text": [
      "<class 'pandas.core.frame.DataFrame'>\n",
      "RangeIndex: 12105 entries, 0 to 12104\n",
      "Data columns (total 7 columns):\n",
      " #   Column  Non-Null Count  Dtype \n",
      "---  ------  --------------  ----- \n",
      " 0   List1   12066 non-null  object\n",
      " 1   List2   9205 non-null   object\n",
      " 2   List3   8934 non-null   object\n",
      " 3   List4   11501 non-null  object\n",
      " 4   List6   7732 non-null   object\n",
      " 5   List7   8876 non-null   object\n",
      " 6   List8   4286 non-null   object\n",
      "dtypes: object(7)\n",
      "memory usage: 662.1+ KB\n"
     ]
    }
   ],
   "source": [
    "df_column = pd.read_csv('merge_column.csv')\n",
    "df_column.info()"
   ]
  },
  {
   "cell_type": "code",
   "execution_count": 159,
   "metadata": {},
   "outputs": [
    {
     "name": "stdout",
     "output_type": "stream",
     "text": [
      "<class 'pandas.core.frame.DataFrame'>\n",
      "Index: 1594 entries, 0 to 12104\n",
      "Data columns (total 7 columns):\n",
      " #   Column  Non-Null Count  Dtype \n",
      "---  ------  --------------  ----- \n",
      " 0   List1   1557 non-null   object\n",
      " 1   List2   900 non-null    object\n",
      " 2   List3   747 non-null    object\n",
      " 3   List4   1327 non-null   object\n",
      " 4   List6   459 non-null    object\n",
      " 5   List7   706 non-null    object\n",
      " 6   List8   157 non-null    object\n",
      "dtypes: object(7)\n",
      "memory usage: 99.6+ KB\n"
     ]
    }
   ],
   "source": [
    "df_column = df_column.drop_duplicates()\n",
    "df_column.info()\n"
   ]
  },
  {
   "cell_type": "code",
   "execution_count": 185,
   "metadata": {},
   "outputs": [
    {
     "data": {
      "text/plain": [
       "1\n",
       "car          1533\n",
       "small bus      11\n",
       "large bus       7\n",
       "truck           6\n",
       "Name: count, dtype: int64"
      ]
     },
     "execution_count": 185,
     "metadata": {},
     "output_type": "execute_result"
    }
   ],
   "source": [
    "df_list1_df_column = df_column[\"List1\"].str.split(\":\", expand=True)\n",
    "df_list1_df_column[1].value_counts()"
   ]
  },
  {
   "cell_type": "code",
   "execution_count": 179,
   "metadata": {},
   "outputs": [
    {
     "data": {
      "text/plain": [
       "1\n",
       "car          873\n",
       "truck         24\n",
       "large bus      3\n",
       "Name: count, dtype: int64"
      ]
     },
     "execution_count": 179,
     "metadata": {},
     "output_type": "execute_result"
    }
   ],
   "source": [
    "df_list2_df_column = df_column[\"List2\"].str.split(\":\", expand=True)\n",
    "df_list2_df_column[1].value_counts()"
   ]
  },
  {
   "cell_type": "code",
   "execution_count": 163,
   "metadata": {},
   "outputs": [
    {
     "data": {
      "text/plain": [
       "1\n",
       "car          713\n",
       "truck         27\n",
       "large bus      7\n",
       "Name: count, dtype: int64"
      ]
     },
     "execution_count": 163,
     "metadata": {},
     "output_type": "execute_result"
    }
   ],
   "source": [
    "df_list3_df_column = df_column[\"List3\"].str.split(\":\", expand=True)\n",
    "df_list3_df_column[1].value_counts()"
   ]
  },
  {
   "cell_type": "code",
   "execution_count": 164,
   "metadata": {},
   "outputs": [
    {
     "data": {
      "text/plain": [
       "1\n",
       "car    1327\n",
       "Name: count, dtype: int64"
      ]
     },
     "execution_count": 164,
     "metadata": {},
     "output_type": "execute_result"
    }
   ],
   "source": [
    "df_list4_df_column = df_column[\"List4\"].str.split(\":\", expand=True)\n",
    "df_list4_df_column[1].value_counts()"
   ]
  },
  {
   "cell_type": "code",
   "execution_count": 165,
   "metadata": {},
   "outputs": [
    {
     "data": {
      "text/plain": [
       "1\n",
       "car           439\n",
       "large bus      13\n",
       "motorcycle      5\n",
       "truck           2\n",
       "Name: count, dtype: int64"
      ]
     },
     "execution_count": 165,
     "metadata": {},
     "output_type": "execute_result"
    }
   ],
   "source": [
    "df_list6_df_column = df_column[\"List6\"].str.split(\":\", expand=True)\n",
    "df_list6_df_column[1].value_counts()"
   ]
  },
  {
   "cell_type": "code",
   "execution_count": 166,
   "metadata": {},
   "outputs": [
    {
     "data": {
      "text/plain": [
       "1\n",
       "car           700\n",
       "motorcycle      6\n",
       "Name: count, dtype: int64"
      ]
     },
     "execution_count": 166,
     "metadata": {},
     "output_type": "execute_result"
    }
   ],
   "source": [
    "df_list7_df_column = df_column[\"List7\"].str.split(\":\", expand=True)\n",
    "df_list7_df_column[1].value_counts()"
   ]
  },
  {
   "cell_type": "code",
   "execution_count": 167,
   "metadata": {},
   "outputs": [
    {
     "data": {
      "text/plain": [
       "1\n",
       "car           154\n",
       "motorcycle      2\n",
       "truck           1\n",
       "Name: count, dtype: int64"
      ]
     },
     "execution_count": 167,
     "metadata": {},
     "output_type": "execute_result"
    }
   ],
   "source": [
    "df_list8_df_column = df_column[\"List8\"].str.split(\":\", expand=True)\n",
    "df_list8_df_column[1].value_counts()"
   ]
  },
  {
   "cell_type": "code",
   "execution_count": 181,
   "metadata": {},
   "outputs": [
    {
     "name": "stdout",
     "output_type": "stream",
     "text": [
      "<class 'pandas.core.frame.DataFrame'>\n",
      "RangeIndex: 16828 entries, 0 to 16827\n",
      "Data columns (total 12 columns):\n",
      " #   Column  Non-Null Count  Dtype \n",
      "---  ------  --------------  ----- \n",
      " 0   List0   1630 non-null   object\n",
      " 1   List1   8241 non-null   object\n",
      " 2   List2   13270 non-null  object\n",
      " 3   List3   15891 non-null  object\n",
      " 4   List4   15574 non-null  object\n",
      " 5   List5   16000 non-null  object\n",
      " 6   List6   11753 non-null  object\n",
      " 7   List7   15093 non-null  object\n",
      " 8   List8   14054 non-null  object\n",
      " 9   List9   13589 non-null  object\n",
      " 10  List10  6397 non-null   object\n",
      " 11  List11  1856 non-null   object\n",
      "dtypes: object(12)\n",
      "memory usage: 1.5+ MB\n"
     ]
    }
   ],
   "source": [
    "df_row = pd.read_csv('merge_row.csv')\n",
    "df_row.info()"
   ]
  },
  {
   "cell_type": "code",
   "execution_count": 182,
   "metadata": {},
   "outputs": [
    {
     "name": "stdout",
     "output_type": "stream",
     "text": [
      "<class 'pandas.core.frame.DataFrame'>\n",
      "Index: 2982 entries, 0 to 16446\n",
      "Data columns (total 12 columns):\n",
      " #   Column  Non-Null Count  Dtype \n",
      "---  ------  --------------  ----- \n",
      " 0   List0   77 non-null     object\n",
      " 1   List1   580 non-null    object\n",
      " 2   List2   1254 non-null   object\n",
      " 3   List3   2582 non-null   object\n",
      " 4   List4   2380 non-null   object\n",
      " 5   List5   2596 non-null   object\n",
      " 6   List6   1126 non-null   object\n",
      " 7   List7   2206 non-null   object\n",
      " 8   List8   1721 non-null   object\n",
      " 9   List9   1392 non-null   object\n",
      " 10  List10  341 non-null    object\n",
      " 11  List11  97 non-null     object\n",
      "dtypes: object(12)\n",
      "memory usage: 302.9+ KB\n"
     ]
    }
   ],
   "source": [
    "df_row = df_row.drop_duplicates()\n",
    "df_row.info()"
   ]
  },
  {
   "cell_type": "code",
   "execution_count": 183,
   "metadata": {},
   "outputs": [
    {
     "data": {
      "text/plain": [
       "1\n",
       "car          70\n",
       "large bus     5\n",
       "truck         2\n",
       "Name: count, dtype: int64"
      ]
     },
     "execution_count": 183,
     "metadata": {},
     "output_type": "execute_result"
    }
   ],
   "source": [
    "df_list0_df_row = df_row[\"List0\"].str.split(\":\", expand=True)\n",
    "df_list0_df_row[1].value_counts()"
   ]
  },
  {
   "cell_type": "code",
   "execution_count": 184,
   "metadata": {},
   "outputs": [
    {
     "data": {
      "text/plain": [
       "1\n",
       "car           476\n",
       "large bus      77\n",
       "truck          25\n",
       "motorcycle      2\n",
       "Name: count, dtype: int64"
      ]
     },
     "execution_count": 184,
     "metadata": {},
     "output_type": "execute_result"
    }
   ],
   "source": [
    "df_list1_df_row = df_row[\"List1\"].str.split(\":\", expand=True)\n",
    "df_list1_df_row[1].value_counts()"
   ]
  },
  {
   "cell_type": "code",
   "execution_count": 169,
   "metadata": {},
   "outputs": [
    {
     "data": {
      "text/plain": [
       "1\n",
       "car           1183\n",
       "truck           41\n",
       "large bus       22\n",
       "motorcycle       8\n",
       "Name: count, dtype: int64"
      ]
     },
     "execution_count": 169,
     "metadata": {},
     "output_type": "execute_result"
    }
   ],
   "source": [
    "df_list2_df_row = df_row[\"List2\"].str.split(\":\", expand=True)\n",
    "df_list2_df_row[1].value_counts()"
   ]
  },
  {
   "cell_type": "code",
   "execution_count": 170,
   "metadata": {},
   "outputs": [
    {
     "data": {
      "text/plain": [
       "1\n",
       "car      2430\n",
       "truck     152\n",
       "Name: count, dtype: int64"
      ]
     },
     "execution_count": 170,
     "metadata": {},
     "output_type": "execute_result"
    }
   ],
   "source": [
    "\n",
    "df_list3_df_row = df_row[\"List3\"].str.split(\":\", expand=True)\n",
    "df_list3_df_row[1].value_counts()\n"
   ]
  },
  {
   "cell_type": "code",
   "execution_count": 171,
   "metadata": {},
   "outputs": [
    {
     "data": {
      "text/plain": [
       "1\n",
       "car           2278\n",
       "truck          101\n",
       "motorcycle       1\n",
       "Name: count, dtype: int64"
      ]
     },
     "execution_count": 171,
     "metadata": {},
     "output_type": "execute_result"
    }
   ],
   "source": [
    "\n",
    "df_list4_df_row = df_row[\"List4\"].str.split(\":\", expand=True)\n",
    "df_list4_df_row[1].value_counts()\n",
    "\n",
    "\n"
   ]
  },
  {
   "cell_type": "code",
   "execution_count": 172,
   "metadata": {},
   "outputs": [
    {
     "data": {
      "text/plain": [
       "1\n",
       "car      2500\n",
       "truck      96\n",
       "Name: count, dtype: int64"
      ]
     },
     "execution_count": 172,
     "metadata": {},
     "output_type": "execute_result"
    }
   ],
   "source": [
    "df_list5_df_row = df_row[\"List5\"].str.split(\":\", expand=True)\n",
    "df_list5_df_row[1].value_counts()\n",
    "\n"
   ]
  },
  {
   "cell_type": "code",
   "execution_count": 173,
   "metadata": {},
   "outputs": [
    {
     "data": {
      "text/plain": [
       "1\n",
       "car           1018\n",
       "motorcycle      55\n",
       "truck           53\n",
       "Name: count, dtype: int64"
      ]
     },
     "execution_count": 173,
     "metadata": {},
     "output_type": "execute_result"
    }
   ],
   "source": [
    "df_list6_df_row = df_row[\"List6\"].str.split(\":\", expand=True)\n",
    "df_list6_df_row[1].value_counts()\n",
    "\n"
   ]
  },
  {
   "cell_type": "code",
   "execution_count": 174,
   "metadata": {},
   "outputs": [
    {
     "data": {
      "text/plain": [
       "1\n",
       "car           1973\n",
       "truck          152\n",
       "motorcycle      74\n",
       "large bus        7\n",
       "Name: count, dtype: int64"
      ]
     },
     "execution_count": 174,
     "metadata": {},
     "output_type": "execute_result"
    }
   ],
   "source": [
    "df_list7_df_row = df_row[\"List7\"].str.split(\":\", expand=True)\n",
    "df_list7_df_row[1].value_counts()\n",
    "\n"
   ]
  },
  {
   "cell_type": "code",
   "execution_count": 175,
   "metadata": {},
   "outputs": [
    {
     "data": {
      "text/plain": [
       "1\n",
       "car           1602\n",
       "truck           85\n",
       "large bus       21\n",
       "motorcycle      13\n",
       "Name: count, dtype: int64"
      ]
     },
     "execution_count": 175,
     "metadata": {},
     "output_type": "execute_result"
    }
   ],
   "source": [
    "df_list8_df_row = df_row[\"List8\"].str.split(\":\", expand=True)\n",
    "df_list8_df_row[1].value_counts()\n",
    "\n"
   ]
  },
  {
   "cell_type": "code",
   "execution_count": 176,
   "metadata": {},
   "outputs": [
    {
     "data": {
      "text/plain": [
       "1\n",
       "car           1202\n",
       "truck          121\n",
       "large bus       49\n",
       "motorcycle      20\n",
       "Name: count, dtype: int64"
      ]
     },
     "execution_count": 176,
     "metadata": {},
     "output_type": "execute_result"
    }
   ],
   "source": [
    "df_list9_df_row = df_row[\"List9\"].str.split(\":\", expand=True)\n",
    "df_list9_df_row[1].value_counts()\n"
   ]
  },
  {
   "cell_type": "code",
   "execution_count": 177,
   "metadata": {},
   "outputs": [
    {
     "data": {
      "text/plain": [
       "1\n",
       "car           270\n",
       "pedestrian     29\n",
       "truck          27\n",
       "large bus      15\n",
       "Name: count, dtype: int64"
      ]
     },
     "execution_count": 177,
     "metadata": {},
     "output_type": "execute_result"
    }
   ],
   "source": [
    "df_list10_df_row = df_row[\"List10\"].str.split(\":\", expand=True)\n",
    "df_list10_df_row[1].value_counts()\n"
   ]
  },
  {
   "cell_type": "code",
   "execution_count": 178,
   "metadata": {},
   "outputs": [
    {
     "data": {
      "text/plain": [
       "1\n",
       "car    97\n",
       "Name: count, dtype: int64"
      ]
     },
     "execution_count": 178,
     "metadata": {},
     "output_type": "execute_result"
    }
   ],
   "source": [
    "df_list11_df_row = df_row[\"List11\"].str.split(\":\", expand=True)\n",
    "df_list11_df_row[1].value_counts()"
   ]
  }
 ],
 "metadata": {
  "kernelspec": {
   "display_name": "forklift",
   "language": "python",
   "name": "python3"
  },
  "language_info": {
   "codemirror_mode": {
    "name": "ipython",
    "version": 3
   },
   "file_extension": ".py",
   "mimetype": "text/x-python",
   "name": "python",
   "nbconvert_exporter": "python",
   "pygments_lexer": "ipython3",
   "version": "3.8.19"
  }
 },
 "nbformat": 4,
 "nbformat_minor": 2
}
